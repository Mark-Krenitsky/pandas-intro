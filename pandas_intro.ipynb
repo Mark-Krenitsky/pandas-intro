{
 "metadata": {
  "name": ""
 },
 "nbformat": 3,
 "nbformat_minor": 0,
 "worksheets": [
  {
   "cells": [
    {
     "cell_type": "markdown",
     "metadata": {},
     "source": [
      "## Notebook"
     ]
    },
    {
     "cell_type": "markdown",
     "metadata": {},
     "source": [
      "### https://github.com/jseabold/pandas-intro\n",
      "### git clone git://github.com/jseabold/pandas-intro.git"
     ]
    },
    {
     "cell_type": "markdown",
     "metadata": {},
     "source": [
      "## About Me\n",
      "\n",
      "Skipper Seabold [@jseabold](http://twitter.com/jseabold)<br />\n",
      "PhD Candidate, Economics, American University<br />\n",
      "[statsmodels](http://statsmodels.sourceforge.net) developer<br />\n",
      "Rarely, a [pandas](http://pandas.pydata.org) [contributor](https://github.com/pydata/pandas/blob/master/CONTRIBUTING.md), but mainly a heavy user<br />"
     ]
    },
    {
     "cell_type": "markdown",
     "metadata": {},
     "source": [
      "## About Pandas\n",
      "\n",
      "Get help on the [mailing list](https://groups.google.com/forum/#!forum/pydata) or [stackoverflow](http://stackoverflow.com/questions/tagged/pandas)<br />\n",
      "Get involved on [github](https://github.com/pydata/pandas) <br />"
     ]
    },
    {
     "cell_type": "heading",
     "level": 3,
     "metadata": {},
     "source": [
      "Preliminaries"
     ]
    },
    {
     "cell_type": "code",
     "collapsed": false,
     "input": [
      "import numpy as np\n",
      "import matplotlib.pyplot as plt\n",
      "\n",
      "np.set_printoptions(suppress=True)\n",
      "randn = np.random.randn # handy alias"
     ],
     "language": "python",
     "metadata": {},
     "outputs": []
    },
    {
     "cell_type": "markdown",
     "metadata": {},
     "source": [
      "## Overview"
     ]
    },
    {
     "cell_type": "markdown",
     "metadata": {},
     "source": [
      "#### Import Convention"
     ]
    },
    {
     "cell_type": "code",
     "collapsed": false,
     "input": [
      "import pandas as pd"
     ],
     "language": "python",
     "metadata": {},
     "outputs": []
    },
    {
     "cell_type": "code",
     "collapsed": false,
     "input": [
      "pd.__version__"
     ],
     "language": "python",
     "metadata": {},
     "outputs": []
    },
    {
     "cell_type": "markdown",
     "metadata": {},
     "source": [
      "#### Features\n",
      "\n",
      "* Data Structures\n",
      "  * 1d or 2d data\n",
      "  * Heterogeneous data types\n",
      "  * Axis indexing\n",
      "* Data I/O\n",
      "* Some statistical functions\n",
      "* Missing data handling\n",
      "* Data manipulation"
     ]
    },
    {
     "cell_type": "markdown",
     "metadata": {},
     "source": [
      "#### Advanced Features / Optional Dependencies"
     ]
    },
    {
     "cell_type": "markdown",
     "metadata": {},
     "source": [
      "* numexpr\n",
      "* bottleneck\n",
      "* lxml/bs4\n",
      "* tables/sqlalchemy\n",
      "* openpyxl/xlrd/xlwt"
     ]
    },
    {
     "cell_type": "markdown",
     "metadata": {},
     "source": [
      "## Display Options"
     ]
    },
    {
     "cell_type": "code",
     "collapsed": false,
     "input": [
      "pd.set_option(\"line_width\", 80)\n",
      "pd.set_option(\"notebook_repr_html\", False)"
     ],
     "language": "python",
     "metadata": {},
     "outputs": []
    },
    {
     "cell_type": "markdown",
     "metadata": {},
     "source": [
      "## Data Structures"
     ]
    },
    {
     "cell_type": "markdown",
     "metadata": {},
     "source": [
      "### Series"
     ]
    },
    {
     "cell_type": "markdown",
     "metadata": {},
     "source": [
      "* A 1-d labelled array\n",
      "* The row labels are referred to as the **index**"
     ]
    },
    {
     "cell_type": "code",
     "collapsed": false,
     "input": [
      "s = pd.Series(randn(5))"
     ],
     "language": "python",
     "metadata": {},
     "outputs": []
    },
    {
     "cell_type": "code",
     "collapsed": false,
     "input": [
      "s"
     ],
     "language": "python",
     "metadata": {},
     "outputs": []
    },
    {
     "cell_type": "markdown",
     "metadata": {},
     "source": [
      "**Exercise 1:** \n",
      "\n",
      "1. Create an array using the name argument to name your Series.\n",
      "2. Create an array using the index argument to label the data points of your Series. Use 'a', 'b', 'c', 'd', 'e' as your index.\n",
      "3. Display your series and compare it to the one we created above."
     ]
    },
    {
     "cell_type": "markdown",
     "metadata": {},
     "source": [
      "Series behave like an 1-d numpy array"
     ]
    },
    {
     "cell_type": "code",
     "collapsed": false,
     "input": [
      "s[0]"
     ],
     "language": "python",
     "metadata": {},
     "outputs": []
    },
    {
     "cell_type": "code",
     "collapsed": false,
     "input": [
      "s[:3]"
     ],
     "language": "python",
     "metadata": {},
     "outputs": []
    },
    {
     "cell_type": "code",
     "collapsed": false,
     "input": [
      "s > 0"
     ],
     "language": "python",
     "metadata": {},
     "outputs": []
    },
    {
     "cell_type": "code",
     "collapsed": false,
     "input": [
      "s[s>0]"
     ],
     "language": "python",
     "metadata": {},
     "outputs": []
    },
    {
     "cell_type": "code",
     "collapsed": false,
     "input": [
      "np.exp(s)"
     ],
     "language": "python",
     "metadata": {},
     "outputs": []
    },
    {
     "cell_type": "markdown",
     "metadata": {},
     "source": [
      "Series is also dict-like"
     ]
    },
    {
     "cell_type": "code",
     "collapsed": false,
     "input": [
      "s = pd.Series(randn(5), index=[\"obs%d\" % i for i in range(1,6)])"
     ],
     "language": "python",
     "metadata": {},
     "outputs": []
    },
    {
     "cell_type": "code",
     "collapsed": false,
     "input": [
      "s[\"obs3\"]"
     ],
     "language": "python",
     "metadata": {},
     "outputs": []
    },
    {
     "cell_type": "code",
     "collapsed": false,
     "input": [
      "\"obs1\" in s"
     ],
     "language": "python",
     "metadata": {},
     "outputs": []
    },
    {
     "cell_type": "code",
     "collapsed": false,
     "input": [
      "s[\"obs4\"] = 15.0"
     ],
     "language": "python",
     "metadata": {},
     "outputs": []
    },
    {
     "cell_type": "code",
     "collapsed": false,
     "input": [
      "s"
     ],
     "language": "python",
     "metadata": {},
     "outputs": []
    },
    {
     "cell_type": "markdown",
     "metadata": {},
     "source": [
      "However, you can't delete by key."
     ]
    },
    {
     "cell_type": "code",
     "collapsed": false,
     "input": [
      "del s[\"obs3\"]"
     ],
     "language": "python",
     "metadata": {},
     "outputs": []
    },
    {
     "cell_type": "markdown",
     "metadata": {},
     "source": [
      "### DataFrame"
     ]
    },
    {
     "cell_type": "markdown",
     "metadata": {},
     "source": [
      "* 2-d labelled array\n",
      "* Additional labels for columns\n",
      "* Columns can be of different types\n",
      "* Inpsired by R's `data.frame`, but much more powerful"
     ]
    },
    {
     "cell_type": "code",
     "collapsed": false,
     "input": [
      "df = pd.DataFrame(randn(10,5))"
     ],
     "language": "python",
     "metadata": {},
     "outputs": []
    },
    {
     "cell_type": "code",
     "collapsed": false,
     "input": [
      "df"
     ],
     "language": "python",
     "metadata": {},
     "outputs": []
    },
    {
     "cell_type": "markdown",
     "metadata": {},
     "source": [
      "* You can name the columns, using the columns argument"
     ]
    },
    {
     "cell_type": "code",
     "collapsed": false,
     "input": [
      "df = pd.DataFrame(randn(10,5), columns=[\"a\", \"b\", \"c\", \"d\", \"e\"])"
     ],
     "language": "python",
     "metadata": {},
     "outputs": []
    },
    {
     "cell_type": "code",
     "collapsed": false,
     "input": [
      "df"
     ],
     "language": "python",
     "metadata": {},
     "outputs": []
    },
    {
     "cell_type": "markdown",
     "metadata": {},
     "source": [
      "* Just like `Series`, you can use the index argument to give labels to the rows"
     ]
    },
    {
     "cell_type": "code",
     "collapsed": false,
     "input": [
      "import string\n",
      "idx = list(string.lowercase[:10])"
     ],
     "language": "python",
     "metadata": {},
     "outputs": []
    },
    {
     "cell_type": "code",
     "collapsed": false,
     "input": [
      "idx"
     ],
     "language": "python",
     "metadata": {},
     "outputs": []
    },
    {
     "cell_type": "code",
     "collapsed": false,
     "input": [
      "df = pd.DataFrame(randn(10,5), index=idx)"
     ],
     "language": "python",
     "metadata": {},
     "outputs": []
    },
    {
     "cell_type": "code",
     "collapsed": false,
     "input": [
      "df"
     ],
     "language": "python",
     "metadata": {},
     "outputs": []
    },
    {
     "cell_type": "markdown",
     "metadata": {},
     "source": [
      "* There are several other way of instantiating a DataFrame\n",
      "* The DataFrame has classmethods `from_dict`, `from_items`, and `from_records`."
     ]
    },
    {
     "cell_type": "markdown",
     "metadata": {},
     "source": [
      "**Exercise 2:** Put the following dictionary into a DataFrame with they keys as columns."
     ]
    },
    {
     "cell_type": "code",
     "collapsed": false,
     "input": [
      "d = dict(var1=randn(10), var2=randn(10))\n",
      "d"
     ],
     "language": "python",
     "metadata": {},
     "outputs": []
    },
    {
     "cell_type": "markdown",
     "metadata": {},
     "source": [
      "**Exercise 3:** Using `from_dict` again, input the following dictionary into a DataFrame, but this time make sure the keys are index labels."
     ]
    },
    {
     "cell_type": "code",
     "collapsed": false,
     "input": [
      "d = dict(obs1=randn(2), obs2=randn(2), obs3=randn(2), obs4=randn(2), obs5=randn(2))\n",
      "d"
     ],
     "language": "python",
     "metadata": {},
     "outputs": []
    },
    {
     "cell_type": "markdown",
     "metadata": {},
     "source": [
      "* DataFrame's also behave a bit like dictionaries\n",
      "* You can think of them as a dict of like-indexed Series"
     ]
    },
    {
     "cell_type": "code",
     "collapsed": false,
     "input": [
      "df = pd.DataFrame(randn(10, 5), columns=[\"var%d\" % i for i in range(1,6)])\n",
      "df"
     ],
     "language": "python",
     "metadata": {},
     "outputs": []
    },
    {
     "cell_type": "markdown",
     "metadata": {},
     "source": [
      "Selecting columns"
     ]
    },
    {
     "cell_type": "code",
     "collapsed": false,
     "input": [
      "df[\"var1\"]"
     ],
     "language": "python",
     "metadata": {},
     "outputs": []
    },
    {
     "cell_type": "markdown",
     "metadata": {},
     "source": [
      "What is the type of this object?"
     ]
    },
    {
     "cell_type": "markdown",
     "metadata": {},
     "source": [
      "And this one?"
     ]
    },
    {
     "cell_type": "code",
     "collapsed": false,
     "input": [
      "df[[\"var1\"]]"
     ],
     "language": "python",
     "metadata": {},
     "outputs": []
    },
    {
     "cell_type": "markdown",
     "metadata": {},
     "source": [
      "**Exercise 4:** Select multiple columns by passing a list of column names. Select both \"var1\" and \"var2\" in one call."
     ]
    },
    {
     "cell_type": "markdown",
     "metadata": {},
     "source": [
      "Deleting a column. You *can* delete columns like you would keys from a dictionary."
     ]
    },
    {
     "cell_type": "code",
     "collapsed": false,
     "input": [
      "del df[\"var5\"]"
     ],
     "language": "python",
     "metadata": {},
     "outputs": []
    },
    {
     "cell_type": "code",
     "collapsed": false,
     "input": [
      "df"
     ],
     "language": "python",
     "metadata": {},
     "outputs": []
    },
    {
     "cell_type": "markdown",
     "metadata": {},
     "source": [
      "Defining new columns"
     ]
    },
    {
     "cell_type": "code",
     "collapsed": false,
     "input": [
      "df[\"var5\"] = 5"
     ],
     "language": "python",
     "metadata": {},
     "outputs": []
    },
    {
     "cell_type": "code",
     "collapsed": false,
     "input": [
      "df[\"var6\"] = randn(10)"
     ],
     "language": "python",
     "metadata": {},
     "outputs": []
    },
    {
     "cell_type": "code",
     "collapsed": false,
     "input": [
      "df"
     ],
     "language": "python",
     "metadata": {},
     "outputs": []
    },
    {
     "cell_type": "markdown",
     "metadata": {},
     "source": [
      "*Careful*. Notice the dtype for `var5`."
     ]
    },
    {
     "cell_type": "code",
     "collapsed": false,
     "input": [
      "df.dtypes"
     ],
     "language": "python",
     "metadata": {},
     "outputs": []
    },
    {
     "cell_type": "markdown",
     "metadata": {},
     "source": [
      "## Example Data"
     ]
    },
    {
     "cell_type": "markdown",
     "metadata": {},
     "source": [
      "* Let's use the [**baseball** data](http://vincentarelbundock.github.io/Rdatasets/doc/plyr/baseball.html) from R's **plyr** as an example"
     ]
    },
    {
     "cell_type": "code",
     "collapsed": false,
     "input": [
      "dta = pd.read_csv(\"https://raw.github.com/vincentarelbundock/\"\n",
      "                  \"Rdatasets/master/csv/plyr/baseball.csv\", \n",
      "                  index_col=0)"
     ],
     "language": "python",
     "metadata": {},
     "outputs": []
    },
    {
     "cell_type": "code",
     "collapsed": false,
     "input": [
      "dta"
     ],
     "language": "python",
     "metadata": {},
     "outputs": []
    },
    {
     "cell_type": "markdown",
     "metadata": {},
     "source": [
      "* If you have a recent version of **statsmodels** installed, you can do this"
     ]
    },
    {
     "cell_type": "code",
     "collapsed": false,
     "input": [
      "import statsmodels.api as sm\n",
      "dta = sm.datasets.get_rdataset(\"baseball\", \"plyr\", cache=True).data"
     ],
     "language": "python",
     "metadata": {},
     "outputs": []
    },
    {
     "cell_type": "code",
     "collapsed": false,
     "input": [
      "dta"
     ],
     "language": "python",
     "metadata": {},
     "outputs": []
    },
    {
     "cell_type": "markdown",
     "metadata": {},
     "source": [
      "* You can force this view by using the `info()` method"
     ]
    },
    {
     "cell_type": "code",
     "collapsed": false,
     "input": [
      "dta.info()"
     ],
     "language": "python",
     "metadata": {},
     "outputs": []
    },
    {
     "cell_type": "markdown",
     "metadata": {},
     "source": [
      "## Indexing and Selection"
     ]
    },
    {
     "cell_type": "markdown",
     "metadata": {},
     "source": [
      "#### Obtaining a Series"
     ]
    },
    {
     "cell_type": "code",
     "collapsed": false,
     "input": [
      "dta['sb']"
     ],
     "language": "python",
     "metadata": {},
     "outputs": []
    },
    {
     "cell_type": "markdown",
     "metadata": {},
     "source": [
      "#### Attribute access"
     ]
    },
    {
     "cell_type": "code",
     "collapsed": false,
     "input": [
      "dta.sb"
     ],
     "language": "python",
     "metadata": {},
     "outputs": []
    },
    {
     "cell_type": "markdown",
     "metadata": {},
     "source": [
      "#### .columns\n",
      "\n",
      "* Explicit access to column names"
     ]
    },
    {
     "cell_type": "code",
     "collapsed": false,
     "input": [
      "dta.columns"
     ],
     "language": "python",
     "metadata": {},
     "outputs": []
    },
    {
     "cell_type": "markdown",
     "metadata": {},
     "source": [
      "#### .index\n",
      "\n",
      "* Explicit access to index\n",
      "* array-like\n",
      "* Index can be hierarchical (advanced)"
     ]
    },
    {
     "cell_type": "code",
     "collapsed": false,
     "input": [
      "dta.index[:15]"
     ],
     "language": "python",
     "metadata": {},
     "outputs": []
    },
    {
     "cell_type": "markdown",
     "metadata": {},
     "source": [
      "#### .ix\n",
      "\n",
      "* **`ix`** is the most flexible and general way to do indexing\n",
      "* It is primarly label-based but will fall back to integer-based, if possible\n",
      "* Let's select the first row (index label `4`)"
     ]
    },
    {
     "cell_type": "code",
     "collapsed": false,
     "input": [
      "dta.ix[4]"
     ],
     "language": "python",
     "metadata": {},
     "outputs": []
    },
    {
     "cell_type": "markdown",
     "metadata": {},
     "source": [
      "**Exercise 5:** Select out the first 5 observations using **`ix`**. Note that you can use slice notation with **`ix`**. Remember **`ix`** defaults to label-based indexing. **Hint**: have a look at dta.index above."
     ]
    },
    {
     "cell_type": "markdown",
     "metadata": {},
     "source": [
      "A few things to notice here.\n",
      "\n",
      "1. What did we pass to ix? It may be a bit confusing here with integer labels, but will make more sense later.\n",
      "2. The last index is inclusive. This is different than what you're probably used to in Python. This will make more sense later."
     ]
    },
    {
     "cell_type": "markdown",
     "metadata": {},
     "source": [
      "* You can also pass columns to `.ix`"
     ]
    },
    {
     "cell_type": "code",
     "collapsed": false,
     "input": [
      "dta.ix[:, dta.columns[:5]]"
     ],
     "language": "python",
     "metadata": {},
     "outputs": []
    },
    {
     "cell_type": "markdown",
     "metadata": {},
     "source": [
      "* Using `.ix` for assignment."
     ]
    },
    {
     "cell_type": "code",
     "collapsed": false,
     "input": [
      "dta['new_variable'] = 0."
     ],
     "language": "python",
     "metadata": {},
     "outputs": []
    },
    {
     "cell_type": "code",
     "collapsed": false,
     "input": [
      "dta.ix[[4, 66471], [\"new_variable\"]] = 2.5"
     ],
     "language": "python",
     "metadata": {},
     "outputs": []
    },
    {
     "cell_type": "code",
     "collapsed": false,
     "input": [
      "dta.ix[[4, 66471], \"new_variable\"] = 3.5"
     ],
     "language": "python",
     "metadata": {},
     "outputs": []
    },
    {
     "cell_type": "code",
     "collapsed": false,
     "input": [
      "dta.ix[4, 66471], \"new_variable\"]"
     ],
     "language": "python",
     "metadata": {},
     "outputs": []
    },
    {
     "cell_type": "markdown",
     "metadata": {},
     "source": [
      "#### .loc and .iloc\n",
      "\n",
      "* Some recent additions to make behavior more strict \n",
      "* strict label-based indexing with **`loc`**\n",
      "* And strict integer-based indexing with **`iloc`**"
     ]
    },
    {
     "cell_type": "code",
     "collapsed": false,
     "input": [
      "dta.loc[4:44, dta.columns[:5]]"
     ],
     "language": "python",
     "metadata": {},
     "outputs": []
    },
    {
     "cell_type": "code",
     "collapsed": false,
     "input": [
      "dta.iloc[:2, :5]"
     ],
     "language": "python",
     "metadata": {},
     "outputs": []
    },
    {
     "cell_type": "code",
     "collapsed": false,
     "input": [
      "X = dta.ix[4:102, dta.columns[:5]]\n",
      "X"
     ],
     "language": "python",
     "metadata": {},
     "outputs": []
    },
    {
     "cell_type": "markdown",
     "metadata": {},
     "source": [
      "#### .select\n",
      "\n",
      "* an advanced way to get slices from a Series or DataFrame\n",
      "* **`select`** takes a function that is expected to return a boolean\n",
      "* See also **.filter** discussed below"
     ]
    },
    {
     "cell_type": "code",
     "collapsed": false,
     "input": [
      "dta.select(lambda x : x % 10 == 0)"
     ],
     "language": "python",
     "metadata": {},
     "outputs": []
    },
    {
     "cell_type": "code",
     "collapsed": false,
     "input": [
      "dta.select(lambda x : x.startswith('h'), axis=1)"
     ],
     "language": "python",
     "metadata": {},
     "outputs": []
    },
    {
     "cell_type": "markdown",
     "metadata": {},
     "source": [
      "## Core Functionality"
     ]
    },
    {
     "cell_type": "markdown",
     "metadata": {},
     "source": [
      "* Let's continue with the **baseball** data"
     ]
    },
    {
     "cell_type": "markdown",
     "metadata": {},
     "source": [
      "#### Descriptive Statistics"
     ]
    },
    {
     "cell_type": "code",
     "collapsed": false,
     "input": [
      "dta.mean()"
     ],
     "language": "python",
     "metadata": {},
     "outputs": []
    },
    {
     "cell_type": "markdown",
     "metadata": {},
     "source": [
      "**Exercise 6:** What type of object is this?"
     ]
    },
    {
     "cell_type": "code",
     "collapsed": false,
     "input": [
      "dta.std()"
     ],
     "language": "python",
     "metadata": {},
     "outputs": []
    },
    {
     "cell_type": "code",
     "collapsed": false,
     "input": [
      "dta.quantile(q=.75)"
     ],
     "language": "python",
     "metadata": {},
     "outputs": []
    },
    {
     "cell_type": "code",
     "collapsed": false,
     "input": [
      "dta.min()"
     ],
     "language": "python",
     "metadata": {},
     "outputs": []
    },
    {
     "cell_type": "code",
     "collapsed": false,
     "input": [
      "dta.max()"
     ],
     "language": "python",
     "metadata": {},
     "outputs": []
    },
    {
     "cell_type": "markdown",
     "metadata": {},
     "source": [
      "* The equivalent of an argmax in pandas is the `idxmax`"
     ]
    },
    {
     "cell_type": "code",
     "collapsed": false,
     "input": [
      "dta.year.idxmax()"
     ],
     "language": "python",
     "metadata": {},
     "outputs": []
    },
    {
     "cell_type": "markdown",
     "metadata": {},
     "source": [
      "* You can get a good overview of aggregate statistics on your numeric variables by using **`describe`**"
     ]
    },
    {
     "cell_type": "code",
     "collapsed": false,
     "input": [
      "dta.describe()"
     ],
     "language": "python",
     "metadata": {},
     "outputs": []
    },
    {
     "cell_type": "markdown",
     "metadata": {},
     "source": [
      "#### Non-aggregating statistics"
     ]
    },
    {
     "cell_type": "markdown",
     "metadata": {},
     "source": [
      "* Select out Barry Bonds"
     ]
    },
    {
     "cell_type": "code",
     "collapsed": false,
     "input": [
      "barry_bonds = dta.ix[dta.id == 'bondsba01']"
     ],
     "language": "python",
     "metadata": {},
     "outputs": []
    },
    {
     "cell_type": "code",
     "collapsed": false,
     "input": [
      "barry_bonds.sort(columns='year', inplace=True)"
     ],
     "language": "python",
     "metadata": {},
     "outputs": []
    },
    {
     "cell_type": "markdown",
     "metadata": {},
     "source": [
      "**Exercise 7:** Use this DataFrame and create a new variable called `cumhr` that contains Barry Bonds running cumulative home runs total. In what year did he surpass Willie Mays home run total of 660?"
     ]
    },
    {
     "cell_type": "markdown",
     "metadata": {},
     "source": [
      "* Similarly, there is **`cumprod`** for calculating cumulative products."
     ]
    },
    {
     "cell_type": "markdown",
     "metadata": {},
     "source": [
      "#### Binning Data\n",
      "\n",
      "* Another common task is histogramming or binning your data\n",
      "* You can use `value_counts` to get a histogram where the bin size is 1"
     ]
    },
    {
     "cell_type": "code",
     "collapsed": false,
     "input": [
      "values = dta.hr.value_counts()\n",
      "values.sort_index()"
     ],
     "language": "python",
     "metadata": {},
     "outputs": []
    },
    {
     "cell_type": "code",
     "collapsed": false,
     "input": [
      "freqs = dta.hr.value_counts(normalize=True)\n",
      "freqs.sort_index()"
     ],
     "language": "python",
     "metadata": {},
     "outputs": []
    },
    {
     "cell_type": "markdown",
     "metadata": {},
     "source": [
      "* Another option is to use the **`.cut`** function\n",
      "* Behaves comparable to R's `cut` function\n",
      "* Places continuous variables into pre-defined bins\n",
      "* Ie., a label value is determined by a cut-off"
     ]
    },
    {
     "cell_type": "code",
     "collapsed": false,
     "input": [
      "hr_groups = pd.cut(dta.hr, bins=10)"
     ],
     "language": "python",
     "metadata": {},
     "outputs": []
    },
    {
     "cell_type": "code",
     "collapsed": false,
     "input": [
      "hr_groups"
     ],
     "language": "python",
     "metadata": {},
     "outputs": []
    },
    {
     "cell_type": "code",
     "collapsed": false,
     "input": [
      "hr_bins = [0, 0.5, 5, 10, 20, 40]"
     ],
     "language": "python",
     "metadata": {},
     "outputs": []
    },
    {
     "cell_type": "code",
     "collapsed": false,
     "input": [
      "hr_groups = pd.cut(dta.hr, bins=hr_bins, include_lowest=True)"
     ],
     "language": "python",
     "metadata": {},
     "outputs": []
    },
    {
     "cell_type": "code",
     "collapsed": false,
     "input": [
      "hr_groups"
     ],
     "language": "python",
     "metadata": {},
     "outputs": []
    },
    {
     "cell_type": "code",
     "collapsed": false,
     "input": [
      "type(hr_groups)"
     ],
     "language": "python",
     "metadata": {},
     "outputs": []
    },
    {
     "cell_type": "markdown",
     "metadata": {},
     "source": [
      "### Iteration"
     ]
    },
    {
     "cell_type": "markdown",
     "metadata": {},
     "source": [
      "* With a Series, you can iterate through the values directly"
     ]
    },
    {
     "cell_type": "code",
     "collapsed": false,
     "input": [
      "ser = pd.Series(randn(10), name='random')\n",
      "for i in ser:\n",
      "    print i"
     ],
     "language": "python",
     "metadata": {},
     "outputs": []
    },
    {
     "cell_type": "markdown",
     "metadata": {},
     "source": [
      "* Since a DataFrame is dict-like, iteration is akin to iterating through a dictionary\n",
      "* That is, by default, it iterates through the columns (keys)"
     ]
    },
    {
     "cell_type": "code",
     "collapsed": false,
     "input": [
      "for col in dta:\n",
      "    print col"
     ],
     "language": "python",
     "metadata": {},
     "outputs": []
    },
    {
     "cell_type": "markdown",
     "metadata": {},
     "source": [
      "* There are several iteration methods available\n",
      "* `iteritems` (or `iterkv`), `iterrows`, `itertuples`\n",
      "* `iterrows` yields an index, row pair"
     ]
    },
    {
     "cell_type": "code",
     "collapsed": false,
     "input": [
      "for i, row in dta.iterrows():\n",
      "    if i == 10001:\n",
      "        break"
     ],
     "language": "python",
     "metadata": {},
     "outputs": []
    },
    {
     "cell_type": "code",
     "collapsed": false,
     "input": [
      "row"
     ],
     "language": "python",
     "metadata": {},
     "outputs": []
    },
    {
     "cell_type": "markdown",
     "metadata": {},
     "source": [
      "* What type of object is `row`?"
     ]
    },
    {
     "cell_type": "markdown",
     "metadata": {},
     "source": [
      "* careful, these are *index*, row pairs\n",
      "* it's not like enumerate"
     ]
    },
    {
     "cell_type": "code",
     "collapsed": false,
     "input": [
      "j = 0\n",
      "for i, row in dta.iterrows():\n",
      "    j += 1\n",
      "    if i == 10001:\n",
      "        break\n",
      "        \n",
      "print (i, j)"
     ],
     "language": "python",
     "metadata": {},
     "outputs": []
    },
    {
     "cell_type": "markdown",
     "metadata": {},
     "source": [
      "### More Common Functions"
     ]
    },
    {
     "cell_type": "markdown",
     "metadata": {},
     "source": [
      "#### .copy\n",
      "\n",
      "* Does what it says. Copies the object."
     ]
    },
    {
     "cell_type": "markdown",
     "metadata": {},
     "source": [
      "#### .drop\n",
      "\n",
      "* .drop allows you to drop certain labels"
     ]
    },
    {
     "cell_type": "code",
     "collapsed": false,
     "input": [
      "df = pd.DataFrame(randn(10, 5), columns=['a', 'b', 'c', 'd', 'e'])\n",
      "df"
     ],
     "language": "python",
     "metadata": {},
     "outputs": []
    },
    {
     "cell_type": "code",
     "collapsed": false,
     "input": [
      "df.drop([2, 5, 7])"
     ],
     "language": "python",
     "metadata": {},
     "outputs": []
    },
    {
     "cell_type": "markdown",
     "metadata": {},
     "source": [
      "* This does not drop in-place"
     ]
    },
    {
     "cell_type": "code",
     "collapsed": false,
     "input": [
      "df"
     ],
     "language": "python",
     "metadata": {},
     "outputs": []
    },
    {
     "cell_type": "markdown",
     "metadata": {},
     "source": [
      "* Likewise you can drop columns"
     ]
    },
    {
     "cell_type": "code",
     "collapsed": false,
     "input": [
      "df.drop(['b', 'c'], axis=1)"
     ],
     "language": "python",
     "metadata": {},
     "outputs": []
    },
    {
     "cell_type": "markdown",
     "metadata": {},
     "source": [
      "#### .drop_duplicates\n",
      "\n",
      "* drops non-unique rows"
     ]
    },
    {
     "cell_type": "code",
     "collapsed": false,
     "input": [
      "np.repeat([[1, 2, 3],[4, 5, 6]], 2, axis=0)"
     ],
     "language": "python",
     "metadata": {},
     "outputs": []
    },
    {
     "cell_type": "code",
     "collapsed": false,
     "input": [
      "X = []\n",
      "\n",
      "df = pd.DataFrame(np.repeat([[1, 2, 3],[4, 5, 6]], 2, axis=0), \n",
      "                  columns=['x1', 'x2', 'x3'])\n",
      "df"
     ],
     "language": "python",
     "metadata": {},
     "outputs": []
    },
    {
     "cell_type": "markdown",
     "metadata": {},
     "source": [
      "* note that it does not reset the index"
     ]
    },
    {
     "cell_type": "code",
     "collapsed": false,
     "input": [
      "df.drop_duplicates()"
     ],
     "language": "python",
     "metadata": {},
     "outputs": []
    },
    {
     "cell_type": "markdown",
     "metadata": {},
     "source": [
      "#### .unique\n",
      "\n",
      "* Return only the unique elements in a Series"
     ]
    },
    {
     "cell_type": "code",
     "collapsed": false,
     "input": [
      "teams = dta.team.unique()"
     ],
     "language": "python",
     "metadata": {},
     "outputs": []
    },
    {
     "cell_type": "code",
     "collapsed": false,
     "input": [
      "teams"
     ],
     "language": "python",
     "metadata": {},
     "outputs": []
    },
    {
     "cell_type": "markdown",
     "metadata": {},
     "source": [
      "#### .filter\n",
      "\n",
      "* **`.filter`** is a convenience for filtering on columns"
     ]
    },
    {
     "cell_type": "code",
     "collapsed": false,
     "input": [
      "dta.filter(items=[\"hr\", \"h\"])"
     ],
     "language": "python",
     "metadata": {},
     "outputs": []
    },
    {
     "cell_type": "code",
     "collapsed": false,
     "input": [
      "dta.filter(like=\"h\")"
     ],
     "language": "python",
     "metadata": {},
     "outputs": []
    },
    {
     "cell_type": "code",
     "collapsed": false,
     "input": [
      "dta.filter(regex=\"^h(?!bp)\")"
     ],
     "language": "python",
     "metadata": {},
     "outputs": []
    },
    {
     "cell_type": "markdown",
     "metadata": {},
     "source": [
      "#### .rename\n",
      "\n",
      "* Used to rename labels"
     ]
    },
    {
     "cell_type": "code",
     "collapsed": false,
     "input": [
      "dta.rename(columns=dict(hr=\"homerun\", \n",
      "                        hbp=\"hit_by_pitch\", \n",
      "                        h=\"hit\",\n",
      "                        so=\"strikeout\",\n",
      "                        sh=\"sacrifice_hits\",\n",
      "                        ))"
     ],
     "language": "python",
     "metadata": {},
     "outputs": []
    },
    {
     "cell_type": "markdown",
     "metadata": {},
     "source": [
      "* Also works for index labels\n",
      "* You can also pass a function similar to select"
     ]
    },
    {
     "cell_type": "markdown",
     "metadata": {},
     "source": [
      "#### .str\n",
      "\n",
      "* Pandas has convenient vectorized string functions\n",
      "* Access these via a Series.str namespace"
     ]
    },
    {
     "cell_type": "code",
     "collapsed": false,
     "input": [
      "dta.team.str.<TAB>"
     ],
     "language": "python",
     "metadata": {},
     "outputs": []
    },
    {
     "cell_type": "markdown",
     "metadata": {},
     "source": [
      "**Exercise 8:** Use `startswith` to find teams that start with 'W'. What does `startswith` return? How do we get back a DataFrame where of rows where the team name starts with 'W'?"
     ]
    },
    {
     "cell_type": "markdown",
     "metadata": {},
     "source": [
      "* Many of these string functions take advantage of regex\n",
      "* **.str.contains** is similar to `re.search`"
     ]
    },
    {
     "cell_type": "markdown",
     "metadata": {},
     "source": [
      "**Exercise 9:** Use `contains` to find team abbreviations that contain a number."
     ]
    },
    {
     "cell_type": "markdown",
     "metadata": {},
     "source": [
      "* `str.replace` is similar to `re.sub`\n",
      "* Let's replace all instances of NY1 with New York Giants"
     ]
    },
    {
     "cell_type": "code",
     "collapsed": false,
     "input": [
      "new_teams = dta.team.str.replace(\"NY1\", \"New York Giants\")"
     ],
     "language": "python",
     "metadata": {},
     "outputs": []
    },
    {
     "cell_type": "code",
     "collapsed": false,
     "input": [
      "idx = dta.team == \"NY1\"\n",
      "new_teams.ix[idx]"
     ],
     "language": "python",
     "metadata": {},
     "outputs": []
    },
    {
     "cell_type": "markdown",
     "metadata": {},
     "source": [
      "#### .values\n",
      "\n",
      "* Many (most) packages are not pandas-aware\n",
      "* You can make functions safe by adding an `np.asarray` call"
     ]
    },
    {
     "cell_type": "code",
     "collapsed": false,
     "input": [
      "def moving_average(X, n=10, mode='valid'):\n",
      "    X = np.asarray(X) # does NOT copy dataframe\n",
      "    window = np.ones(n)/n\n",
      "    return np.convolve(X, window, mode=mode)"
     ],
     "language": "python",
     "metadata": {},
     "outputs": []
    },
    {
     "cell_type": "code",
     "collapsed": false,
     "input": [
      "ser = pd.Series(np.arange(35.))"
     ],
     "language": "python",
     "metadata": {},
     "outputs": []
    },
    {
     "cell_type": "code",
     "collapsed": false,
     "input": [
      "moving_average(ser)"
     ],
     "language": "python",
     "metadata": {},
     "outputs": []
    },
    {
     "cell_type": "markdown",
     "metadata": {},
     "source": [
      "* Pandas has fast moving average code already. This is just an example."
     ]
    },
    {
     "cell_type": "markdown",
     "metadata": {},
     "source": [
      "#### .apply\n",
      "\n",
      "* The apply method allows us to run arbitrary functions over the axes of a DataFrame\n",
      "* To apply a method to the columns we can do something like"
     ]
    },
    {
     "cell_type": "code",
     "collapsed": false,
     "input": [
      "dta[[\"h\", \"hr\", \"ab\"]].apply(np.mean)"
     ],
     "language": "python",
     "metadata": {},
     "outputs": []
    },
    {
     "cell_type": "markdown",
     "metadata": {},
     "source": [
      "**Exercise 10:** Use `randn` to create a 10 x 5 DataFrame with column names ['a', 'b', 'c', 'd', 'e']. Using apply, calculate the means of 1) each colum and 2) each row. Finally, report which column has the largest peak-to-peak change. Use apply here as well as anything else you've learned so far. Don't use more than one line of code, if you can help it."
     ]
    },
    {
     "cell_type": "markdown",
     "metadata": {},
     "source": [
      "* You can do some very useful things when you combine apply and groupby"
     ]
    },
    {
     "cell_type": "markdown",
     "metadata": {},
     "source": [
      "#### .groupby"
     ]
    },
    {
     "cell_type": "markdown",
     "metadata": {},
     "source": [
      "* groupby allows you to efficiently combine your data into groups and do computations\n",
      "* say we wanted to find out who has the most career stolen bases in this data"
     ]
    },
    {
     "cell_type": "code",
     "collapsed": false,
     "input": [
      "sb = dta.groupby('id')['sb'].sum()\n",
      "sb"
     ],
     "language": "python",
     "metadata": {},
     "outputs": []
    },
    {
     "cell_type": "code",
     "collapsed": false,
     "input": [
      "sb.sort(ascending=False)"
     ],
     "language": "python",
     "metadata": {},
     "outputs": []
    },
    {
     "cell_type": "code",
     "collapsed": false,
     "input": [
      "sb.head(10)"
     ],
     "language": "python",
     "metadata": {},
     "outputs": []
    },
    {
     "cell_type": "markdown",
     "metadata": {},
     "source": [
      "* groupby returns a GroupBy object"
     ]
    },
    {
     "cell_type": "code",
     "collapsed": false,
     "input": [
      "grouped = dta.groupby('team')"
     ],
     "language": "python",
     "metadata": {},
     "outputs": []
    },
    {
     "cell_type": "code",
     "collapsed": false,
     "input": [
      "type(grouped)"
     ],
     "language": "python",
     "metadata": {},
     "outputs": []
    },
    {
     "cell_type": "markdown",
     "metadata": {},
     "source": [
      "* You can iterate through group name, DataFrame pairs (optionally) sorted by group name"
     ]
    },
    {
     "cell_type": "code",
     "collapsed": false,
     "input": [
      "for group_name, group in grouped:\n",
      "    pass"
     ],
     "language": "python",
     "metadata": {},
     "outputs": []
    },
    {
     "cell_type": "code",
     "collapsed": false,
     "input": [
      "group_name"
     ],
     "language": "python",
     "metadata": {},
     "outputs": []
    },
    {
     "cell_type": "code",
     "collapsed": false,
     "input": [
      "group"
     ],
     "language": "python",
     "metadata": {},
     "outputs": []
    },
    {
     "cell_type": "markdown",
     "metadata": {},
     "source": [
      "* The GroupBy object persists"
     ]
    },
    {
     "cell_type": "markdown",
     "metadata": {},
     "source": [
      "#### GroupBy.aggregate"
     ]
    },
    {
     "cell_type": "markdown",
     "metadata": {},
     "source": [
      "* Accepts a function\n",
      "* Also has a number of optimized functions available by name\n",
      "  * mean/median/prod/sum/std/var "
     ]
    },
    {
     "cell_type": "code",
     "collapsed": false,
     "input": [
      "grouped.aggregate('mean')"
     ],
     "language": "python",
     "metadata": {},
     "outputs": []
    },
    {
     "cell_type": "markdown",
     "metadata": {},
     "source": [
      "#### GroupBy.apply"
     ]
    },
    {
     "cell_type": "markdown",
     "metadata": {},
     "source": [
      "* Apply is more flexible\n",
      "* You could aggregate"
     ]
    },
    {
     "cell_type": "code",
     "collapsed": false,
     "input": [
      "grouped.apply(lambda x : x.mean())"
     ],
     "language": "python",
     "metadata": {},
     "outputs": []
    },
    {
     "cell_type": "markdown",
     "metadata": {},
     "source": [
      "* You can also return a full DataFrame\n",
      "* The result tries hard to be what you'd expect\n",
      "* Say we want to cap the number of homeruns at 40"
     ]
    },
    {
     "cell_type": "code",
     "collapsed": false,
     "input": [
      "def cap_hrs(series):\n",
      "    series.ix[series >= 40] = 40\n",
      "    return series"
     ],
     "language": "python",
     "metadata": {},
     "outputs": []
    },
    {
     "cell_type": "code",
     "collapsed": false,
     "input": [
      "dta['capped_hr'] = grouped['hr'].apply(cap_hrs)"
     ],
     "language": "python",
     "metadata": {},
     "outputs": []
    },
    {
     "cell_type": "code",
     "collapsed": false,
     "input": [
      "assert dta.capped_hr.max() == 40"
     ],
     "language": "python",
     "metadata": {},
     "outputs": []
    },
    {
     "cell_type": "markdown",
     "metadata": {},
     "source": [
      "**Exercise 11:** Construct a DataFrame that has for each year the team and player that had the most stolen bases as well as the number of stolen bases. Which team did the stolen base leader in 1985 play for?"
     ]
    },
    {
     "cell_type": "markdown",
     "metadata": {},
     "source": [
      "## Alignment"
     ]
    },
    {
     "cell_type": "markdown",
     "metadata": {},
     "source": [
      "* reindexing conforms the data to match a given set of labels\n",
      "* reindexing is used heavily internally to implement nearly all features relying on label-alignment\n",
      "* It can\n",
      "  * reorder the data\n",
      "  * insert missing values\n",
      "  * or it can insert a fill value using certain log (relevant for time-series)"
     ]
    },
    {
     "cell_type": "code",
     "collapsed": false,
     "input": [
      "X = dta.ix[4:102, dta.columns[:5]]\n",
      "X"
     ],
     "language": "python",
     "metadata": {},
     "outputs": []
    },
    {
     "cell_type": "code",
     "collapsed": false,
     "input": [
      "X.reindex([4, 102, 44, 50, 12])"
     ],
     "language": "python",
     "metadata": {},
     "outputs": []
    },
    {
     "cell_type": "markdown",
     "metadata": {},
     "source": [
      "* Use `set_index` to set a totally new index"
     ]
    },
    {
     "cell_type": "code",
     "collapsed": false,
     "input": [
      "X.set_index('id')"
     ],
     "language": "python",
     "metadata": {},
     "outputs": []
    },
    {
     "cell_type": "code",
     "collapsed": false,
     "input": [
      "X.set_index(pd.Index([1,2,3,4,5]))"
     ],
     "language": "python",
     "metadata": {},
     "outputs": []
    },
    {
     "cell_type": "markdown",
     "metadata": {},
     "source": [
      "**Exercise 12:** Using the following two overlapping indices for the numerator and denominator respectively calculate the players' batting averages. The formula for batting average is 'avg = h/ab'."
     ]
    },
    {
     "cell_type": "code",
     "collapsed": false,
     "input": [
      "idx1 = pd.Index([46045, 46046, 46050, 46052, 46054, 46055, 46057, 46064, 46078, 46079])\n",
      "idx2 = pd.Index([46050, 46052, 46054, 46055, 46057, 46064, 46078, 46079, 46106, 46109])"
     ],
     "language": "python",
     "metadata": {},
     "outputs": []
    },
    {
     "cell_type": "markdown",
     "metadata": {},
     "source": [
      "## Input/Output"
     ]
    },
    {
     "cell_type": "markdown",
     "metadata": {},
     "source": [
      "* read_csv/read_table\n",
      "* read_html\n",
      "* read_json\n",
      "* read_clipboard\n",
      "* read_sql\n",
      "* read_hdf\n",
      "* read_stata\n",
      "* DataReader"
     ]
    },
    {
     "cell_type": "heading",
     "level": 4,
     "metadata": {},
     "source": [
      "DataReader"
     ]
    },
    {
     "cell_type": "markdown",
     "metadata": {},
     "source": [
      "* the `DataReader` module provides an easy way to extract data from many online sources including\n",
      "  1. Yahoo! Finance\n",
      "  2. Google Finance\n",
      "  3. Federal Reserve Economic Database (FRED)\n",
      "  4. Kenneth French's data library (Fama-French)\n",
      "* You might choose to just use the underlying functions\n",
      "  * `data.get_data_yahoo`\n",
      "  * `data.get_data_google`\n",
      "  * `data.get_data_fred`\n",
      "  * `data.get_data_famafrench`"
     ]
    },
    {
     "cell_type": "code",
     "collapsed": false,
     "input": [
      "from pandas.io import data\n",
      "from datetime import datetime"
     ],
     "language": "python",
     "metadata": {},
     "outputs": []
    },
    {
     "cell_type": "code",
     "collapsed": false,
     "input": [
      "start = datetime(2010, 1, 1)\n",
      "end = datetime.today()\n",
      "            \n",
      "stocks = data.DataReader(\"MSFT\", \"yahoo\", start=start)"
     ],
     "language": "python",
     "metadata": {},
     "outputs": []
    },
    {
     "cell_type": "markdown",
     "metadata": {},
     "source": [
      "## Time Series"
     ]
    },
    {
     "cell_type": "markdown",
     "metadata": {},
     "source": [
      "* A full discussion is a whole other talk, but here's a taste\n",
      "* A TimeSeries is a Series that has a DatetimeIndex\n",
      "* Likewise DataFrames can have a DatetimeIndex (or a PeriodIndex)"
     ]
    },
    {
     "cell_type": "code",
     "collapsed": false,
     "input": [
      "type(stocks.Close)"
     ],
     "language": "python",
     "metadata": {},
     "outputs": []
    },
    {
     "cell_type": "code",
     "collapsed": false,
     "input": [
      "stocks.index"
     ],
     "language": "python",
     "metadata": {},
     "outputs": []
    },
    {
     "cell_type": "code",
     "collapsed": false,
     "input": [
      "stocks.index[0]"
     ],
     "language": "python",
     "metadata": {},
     "outputs": []
    },
    {
     "cell_type": "markdown",
     "metadata": {},
     "source": [
      "* A Timestamp is the pandas equivalent of python's datetime and is in most cases interchangeable with it\n",
      "* It provides support for time-zone handling and higher \n",
      "* Most importantly, they're fast and work in a vectorized manner"
     ]
    },
    {
     "cell_type": "markdown",
     "metadata": {},
     "source": [
      "* integer indexing"
     ]
    },
    {
     "cell_type": "code",
     "collapsed": false,
     "input": [
      "stocks[:5]"
     ],
     "language": "python",
     "metadata": {},
     "outputs": []
    },
    {
     "cell_type": "markdown",
     "metadata": {},
     "source": [
      "* slicing with dates (inclusive of last date)"
     ]
    },
    {
     "cell_type": "code",
     "collapsed": false,
     "input": [
      "stocks['2010-1-04':'2010-1-29']"
     ],
     "language": "python",
     "metadata": {},
     "outputs": []
    },
    {
     "cell_type": "markdown",
     "metadata": {},
     "source": [
      "* intelligent slicing of years and months with partial string indexing"
     ]
    },
    {
     "cell_type": "code",
     "collapsed": false,
     "input": [
      "stocks['2010-01']"
     ],
     "language": "python",
     "metadata": {},
     "outputs": []
    },
    {
     "cell_type": "markdown",
     "metadata": {},
     "source": [
      "* You can also slice with datetime objects or the pandas Timestamp objects"
     ]
    },
    {
     "cell_type": "markdown",
     "metadata": {},
     "source": [
      "#### Other TimeSeries features"
     ]
    },
    {
     "cell_type": "markdown",
     "metadata": {},
     "source": [
      "* Intelligent handling of fixed-frequency data with **`DateOffset`**\n",
      "  * E.g., annual, business day, month end, or month begin down to nanoseconds\n",
      "* **`shift`** allows the shifting of data forward backward in time\n",
      "* **`resample`** allows up- and down-sampling of data\n",
      "  * E.g., going from monthly to annual or seconds to 5-minute intervals\n",
      "* Support for timezone handling via `pytz`\n",
      "* Support for fast moving windows statistics\n",
      "  * exponentially weighted moving moments\n",
      "* Support for interpolation and filling values"
     ]
    },
    {
     "cell_type": "code",
     "collapsed": false,
     "input": [
      "adj_close = stocks['Adj Close']"
     ],
     "language": "python",
     "metadata": {},
     "outputs": []
    },
    {
     "cell_type": "markdown",
     "metadata": {},
     "source": [
      "#### TimeSeries Plotting"
     ]
    },
    {
     "cell_type": "code",
     "collapsed": false,
     "input": [
      "ax = stocks['Adj Close'].plot(figsize=(10,8))"
     ],
     "language": "python",
     "metadata": {},
     "outputs": []
    },
    {
     "cell_type": "code",
     "collapsed": false,
     "input": [
      "ax = stocks['Adj Close'].plot(logy=True, figsize=(10,8))"
     ],
     "language": "python",
     "metadata": {},
     "outputs": []
    },
    {
     "cell_type": "markdown",
     "metadata": {},
     "source": [
      "* Plot the exponentially weighted moving average versus the adjusted close"
     ]
    },
    {
     "cell_type": "code",
     "collapsed": false,
     "input": [
      "ewma = pd.ewma(adj_close, span=20)\n",
      "ewma.name = 'Moving Average'\n",
      "\n",
      "fig, ax = plt.subplots(figsize=(10,8))\n",
      "ax = ewma.plot()\n",
      "ax = adj_close.plot(ax=ax)\n",
      "legend = ax.legend(loc='upper left')"
     ],
     "language": "python",
     "metadata": {},
     "outputs": []
    },
    {
     "cell_type": "markdown",
     "metadata": {},
     "source": [
      "* plotting with subplots"
     ]
    },
    {
     "cell_type": "code",
     "collapsed": false,
     "input": [
      "stocks = data.get_data_yahoo(['MSFT', 'KO', 'FDX'], start=start)['Adj Close']"
     ],
     "language": "python",
     "metadata": {},
     "outputs": []
    },
    {
     "cell_type": "code",
     "collapsed": false,
     "input": [
      "ax = stocks.plot(subplots=True, figsize=(10,8), sharex=False)"
     ],
     "language": "python",
     "metadata": {},
     "outputs": []
    },
    {
     "cell_type": "markdown",
     "metadata": {},
     "source": [
      "## Plotting"
     ]
    },
    {
     "cell_type": "markdown",
     "metadata": {},
     "source": [
      "* Below are only a few of the plots that are built into pandas, many more are available"
     ]
    },
    {
     "cell_type": "code",
     "collapsed": false,
     "input": [
      "from pandas.tools import plotting"
     ],
     "language": "python",
     "metadata": {},
     "outputs": []
    },
    {
     "cell_type": "markdown",
     "metadata": {},
     "source": [
      "#### Scatter Plots"
     ]
    },
    {
     "cell_type": "code",
     "collapsed": false,
     "input": [
      "X = np.random.multivariate_normal([10, 25], cov=[[1.5, 1],[1, 2.5]], size=1000)\n",
      "df = pd.DataFrame(X, columns=['x1', 'x2'])"
     ],
     "language": "python",
     "metadata": {},
     "outputs": []
    },
    {
     "cell_type": "code",
     "collapsed": false,
     "input": [
      "fig = plotting.scatter_plot(df, 'x1', 'x2')"
     ],
     "language": "python",
     "metadata": {},
     "outputs": []
    },
    {
     "cell_type": "markdown",
     "metadata": {},
     "source": [
      "* Scatter matrix"
     ]
    },
    {
     "cell_type": "code",
     "collapsed": false,
     "input": [
      "returns = stocks.pct_change()"
     ],
     "language": "python",
     "metadata": {},
     "outputs": []
    },
    {
     "cell_type": "code",
     "collapsed": false,
     "input": [
      "axes = plotting.scatter_matrix(returns, figsize=(8,8))"
     ],
     "language": "python",
     "metadata": {},
     "outputs": []
    },
    {
     "cell_type": "markdown",
     "metadata": {},
     "source": [
      "#### Histogram"
     ]
    },
    {
     "cell_type": "code",
     "collapsed": false,
     "input": [
      "ax.xaxis.get_ticklabels()[::2]"
     ],
     "language": "python",
     "metadata": {},
     "outputs": []
    },
    {
     "cell_type": "code",
     "collapsed": false,
     "input": [
      "axes = plotting.hist_frame(returns, figsize=(14,8), bins=13)\n",
      "\n",
      "# do a little cleanup\n",
      "from matplotlib.ticker import MaxNLocator\n",
      "ax = axes[1,0]\n",
      "ax.xaxis.set_major_locator(MaxNLocator(8))"
     ],
     "language": "python",
     "metadata": {},
     "outputs": []
    },
    {
     "cell_type": "markdown",
     "metadata": {},
     "source": [
      "#### Boxplot"
     ]
    },
    {
     "cell_type": "code",
     "collapsed": false,
     "input": [
      "fig, ax = plt.subplots(figsize=(8,6))\n",
      "boxplot_dict = plotting.boxplot(dta, column=['hr', 'h', 'rbi'], ax=ax)"
     ],
     "language": "python",
     "metadata": {},
     "outputs": []
    },
    {
     "cell_type": "code",
     "collapsed": false,
     "input": [
      "dta.groupby('id').mean()"
     ],
     "language": "python",
     "metadata": {},
     "outputs": []
    },
    {
     "cell_type": "code",
     "collapsed": false,
     "input": [
      "boxplot_dict = plotting.boxplot(dta.groupby('id').mean(), column=['hr', 'h', 'rbi'])"
     ],
     "language": "python",
     "metadata": {},
     "outputs": []
    },
    {
     "cell_type": "heading",
     "level": 2,
     "metadata": {},
     "source": [
      "Gotchas"
     ]
    },
    {
     "cell_type": "heading",
     "level": 4,
     "metadata": {},
     "source": [
      "Integer Indexing vs. Labels"
     ]
    },
    {
     "cell_type": "markdown",
     "metadata": {},
     "source": [
      "* In pandas, labels always take precedence\n",
      "* This can lead to some tricky behavior"
     ]
    },
    {
     "cell_type": "code",
     "collapsed": false,
     "input": [
      "s = pd.Series(range(5))\n",
      "s[-1]"
     ],
     "language": "python",
     "metadata": {},
     "outputs": []
    },
    {
     "cell_type": "heading",
     "level": 4,
     "metadata": {},
     "source": [
      "Integer / NA Upcasting"
     ]
    },
    {
     "cell_type": "markdown",
     "metadata": {},
     "source": [
      "* integer / NA upcasting\n",
      "* as of right now, missing values in NumPy are represented by a float `np.nan`\n",
      "* This results in the following behavior"
     ]
    },
    {
     "cell_type": "code",
     "collapsed": false,
     "input": [
      "s = pd.Series([1, 2, 3, 4, 5], index=list('abcde'))"
     ],
     "language": "python",
     "metadata": {},
     "outputs": []
    },
    {
     "cell_type": "code",
     "collapsed": false,
     "input": [
      "s"
     ],
     "language": "python",
     "metadata": {},
     "outputs": []
    },
    {
     "cell_type": "code",
     "collapsed": false,
     "input": [
      "s2 = s.reindex(list('abcdef'))\n",
      "s2"
     ],
     "language": "python",
     "metadata": {},
     "outputs": []
    },
    {
     "cell_type": "markdown",
     "metadata": {},
     "source": [
      "* another example of (possibly unexpected) casting"
     ]
    },
    {
     "cell_type": "code",
     "collapsed": false,
     "input": [
      "randint = np.random.randint\n",
      "np.random.seed(12345)\n",
      "df = pd.DataFrame(randint(0, 5, size=(7,5)), columns=list('ABCDE'))"
     ],
     "language": "python",
     "metadata": {},
     "outputs": []
    },
    {
     "cell_type": "code",
     "collapsed": false,
     "input": [
      "df"
     ],
     "language": "python",
     "metadata": {},
     "outputs": []
    },
    {
     "cell_type": "code",
     "collapsed": false,
     "input": [
      "df.dtypes"
     ],
     "language": "python",
     "metadata": {},
     "outputs": []
    },
    {
     "cell_type": "code",
     "collapsed": false,
     "input": [
      "df[df>0]"
     ],
     "language": "python",
     "metadata": {},
     "outputs": []
    },
    {
     "cell_type": "code",
     "collapsed": false,
     "input": [
      "df[df>0].dtypes"
     ],
     "language": "python",
     "metadata": {},
     "outputs": []
    },
    {
     "cell_type": "markdown",
     "metadata": {},
     "source": [
      "#### Inplace operations\n",
      "\n",
      "* many pandas methods do not do things in-place by default\n",
      "* this means 1) copies and 2) objects are returned\n",
      "* sometimes this may be unexpected"
     ]
    },
    {
     "cell_type": "code",
     "collapsed": false,
     "input": [
      "df.sort('A')"
     ],
     "language": "python",
     "metadata": {},
     "outputs": []
    },
    {
     "cell_type": "code",
     "collapsed": false,
     "input": [
      "df"
     ],
     "language": "python",
     "metadata": {},
     "outputs": []
    },
    {
     "cell_type": "markdown",
     "metadata": {},
     "source": [
      "* Often you may want to use the inplace keyword"
     ]
    },
    {
     "cell_type": "code",
     "collapsed": false,
     "input": [
      "df.sort('A', inplace=True)"
     ],
     "language": "python",
     "metadata": {},
     "outputs": []
    },
    {
     "cell_type": "code",
     "collapsed": false,
     "input": [
      "df"
     ],
     "language": "python",
     "metadata": {},
     "outputs": []
    },
    {
     "cell_type": "markdown",
     "metadata": {},
     "source": [
      "#### Checking for NAs\n",
      "\n",
      "* I haven't said a lot about missing data handling in pandas\n",
      "* Be aware of two functions - `pd.isnull` and `pd.notnull`"
     ]
    },
    {
     "cell_type": "code",
     "collapsed": false,
     "input": [
      "df = pd.DataFrame(randn(10,5)).reindex(range(20)[::2])"
     ],
     "language": "python",
     "metadata": {},
     "outputs": []
    },
    {
     "cell_type": "markdown",
     "metadata": {},
     "source": [
      "* Don't do this"
     ]
    },
    {
     "cell_type": "code",
     "collapsed": false,
     "input": [
      "df.ix[10,0] == np.nan"
     ],
     "language": "python",
     "metadata": {},
     "outputs": []
    },
    {
     "cell_type": "markdown",
     "metadata": {},
     "source": [
      "* Do this"
     ]
    },
    {
     "cell_type": "code",
     "collapsed": false,
     "input": [
      "pd.isnull(df.ix[10,0])"
     ],
     "language": "python",
     "metadata": {},
     "outputs": []
    }
   ],
   "metadata": {}
  }
 ]
}