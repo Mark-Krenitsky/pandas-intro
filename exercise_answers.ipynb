{
 "metadata": {
  "name": ""
 },
 "nbformat": 3,
 "nbformat_minor": 0,
 "worksheets": [
  {
   "cells": [
    {
     "cell_type": "code",
     "collapsed": false,
     "input": [
      "import pandas as pd\n",
      "import numpy as np\n",
      "import matplotlib.pyplot as plt\n",
      "\n",
      "np.set_printoptions(suppress=True)\n",
      "randn = np.random.randn # handy alias"
     ],
     "language": "python",
     "metadata": {},
     "outputs": []
    },
    {
     "cell_type": "markdown",
     "metadata": {},
     "source": [
      "**Exercise 1:** \n",
      "\n",
      "1. Create an array using the name argument to name your Series.\n",
      "2. Create an array using the index argument to label the data points of your Series. Use a, b, c, d, e as your index.\n",
      "3. Display your series and compare it to the one we created above."
     ]
    },
    {
     "cell_type": "code",
     "collapsed": false,
     "input": [
      "s1 = pd.Series(randn(5), name=\"random\")"
     ],
     "language": "python",
     "metadata": {},
     "outputs": []
    },
    {
     "cell_type": "code",
     "collapsed": false,
     "input": [
      "import string\n",
      "s2 = pd.Series(randn(5), index=list(string.lowercase[:5]))"
     ],
     "language": "python",
     "metadata": {},
     "outputs": []
    },
    {
     "cell_type": "code",
     "collapsed": false,
     "input": [
      "s1"
     ],
     "language": "python",
     "metadata": {},
     "outputs": []
    },
    {
     "cell_type": "code",
     "collapsed": false,
     "input": [
      "s2"
     ],
     "language": "python",
     "metadata": {},
     "outputs": []
    },
    {
     "cell_type": "code",
     "collapsed": false,
     "input": [
      "# from text\n",
      "s = pd.Series(randn(5))\n",
      "s"
     ],
     "language": "python",
     "metadata": {},
     "outputs": []
    },
    {
     "cell_type": "markdown",
     "metadata": {},
     "source": [
      "**Exercise 2:** Put the following dictionary into a DataFrame with they keys as columns."
     ]
    },
    {
     "cell_type": "code",
     "collapsed": false,
     "input": [
      "d = dict(var1=randn(10), var2=randn(10))\n",
      "d"
     ],
     "language": "python",
     "metadata": {},
     "outputs": []
    },
    {
     "cell_type": "code",
     "collapsed": false,
     "input": [
      "df = pd.DataFrame.from_dict(d)\n",
      "df"
     ],
     "language": "python",
     "metadata": {},
     "outputs": []
    },
    {
     "cell_type": "markdown",
     "metadata": {},
     "source": [
      "**Exercise 3:** Using `from_dict` again, input the following dictionary into a DataFrame, but this time make sure the keys are index labels."
     ]
    },
    {
     "cell_type": "code",
     "collapsed": false,
     "input": [
      "d = dict(obs1=randn(2), obs2=randn(2), obs3=randn(2), obs4=randn(2), obs5=randn(2))\n",
      "df = pd.DataFrame.from_dict(d, orient='index')\n",
      "df"
     ],
     "language": "python",
     "metadata": {},
     "outputs": []
    },
    {
     "cell_type": "markdown",
     "metadata": {},
     "source": [
      "**Exercise 4:** Select multiple columns by passing a list of column names. Select both \"var1\" and \"var2\" in one call."
     ]
    },
    {
     "cell_type": "code",
     "collapsed": false,
     "input": [
      "df = pd.DataFrame(randn(10, 5), columns=[\"var%d\" % i for i in range(1,6)])\n",
      "df[[\"var1\", \"var2\"]]"
     ],
     "language": "python",
     "metadata": {},
     "outputs": []
    },
    {
     "cell_type": "markdown",
     "metadata": {},
     "source": [
      "**Exercise 5:** Select out the first 5 observations using **`ix`**. Note that you can use slice notation with **`ix`**."
     ]
    },
    {
     "cell_type": "code",
     "collapsed": false,
     "input": [
      "dta = pd.read_csv(\"https://raw.github.com/vincentarelbundock/\"\n",
      "                  \"Rdatasets/master/csv/plyr/baseball.csv\", \n",
      "                  index_col=0)"
     ],
     "language": "python",
     "metadata": {},
     "outputs": []
    },
    {
     "cell_type": "code",
     "collapsed": false,
     "input": [
      "dta.index[:5]"
     ],
     "language": "python",
     "metadata": {},
     "outputs": []
    },
    {
     "cell_type": "code",
     "collapsed": false,
     "input": [
      "dta.ix[:102]"
     ],
     "language": "python",
     "metadata": {},
     "outputs": []
    },
    {
     "cell_type": "code",
     "collapsed": false,
     "input": [
      "dta.ix[dta.index[:5]]"
     ],
     "language": "python",
     "metadata": {},
     "outputs": []
    },
    {
     "cell_type": "markdown",
     "metadata": {},
     "source": [
      "**Exercise 6:** What type of object does mean return?"
     ]
    },
    {
     "cell_type": "code",
     "collapsed": false,
     "input": [
      "type(dta.mean())"
     ],
     "language": "python",
     "metadata": {},
     "outputs": []
    },
    {
     "cell_type": "markdown",
     "metadata": {},
     "source": [
      "**Exercise 7:** Use this DataFrame and create a new variable called `cumhr` that contains Barry Bonds running cumulative home runs total. In what year did he surpass Willie Mays home run total of 660"
     ]
    },
    {
     "cell_type": "code",
     "collapsed": false,
     "input": [
      "barry_bonds = dta.ix[dta.id == 'bondsba01']\n",
      "barry_bonds.sort(columns='year', inplace=True)"
     ],
     "language": "python",
     "metadata": {},
     "outputs": []
    },
    {
     "cell_type": "code",
     "collapsed": false,
     "input": [
      "barry_bonds['cumhr'] = barry_bonds.hr.cumsum()"
     ],
     "language": "python",
     "metadata": {},
     "outputs": []
    },
    {
     "cell_type": "markdown",
     "metadata": {},
     "source": [
      "Have a look at see when cumhr breaks 660."
     ]
    },
    {
     "cell_type": "code",
     "collapsed": false,
     "input": [
      "barry_bonds[['year', 'cumhr']]"
     ],
     "language": "python",
     "metadata": {},
     "outputs": []
    },
    {
     "cell_type": "markdown",
     "metadata": {},
     "source": [
      "Or do it programmatically."
     ]
    },
    {
     "cell_type": "code",
     "collapsed": false,
     "input": [
      "barry_bonds.set_index('year')['cumhr'] > 660"
     ],
     "language": "python",
     "metadata": {},
     "outputs": []
    },
    {
     "cell_type": "markdown",
     "metadata": {},
     "source": [
      "**Exercise 8:** Use `startswith` to find teams that start with 'W'. What does `startswith` return? How do we get back a DataFrame?"
     ]
    },
    {
     "cell_type": "code",
     "collapsed": false,
     "input": [
      "dta.team.str.startswith(\"W\")"
     ],
     "language": "python",
     "metadata": {},
     "outputs": []
    },
    {
     "cell_type": "markdown",
     "metadata": {},
     "source": [
      "It returns a boolean index."
     ]
    },
    {
     "cell_type": "code",
     "collapsed": false,
     "input": [
      "dta.ix[dta.team.str.startswith('W')]"
     ],
     "language": "python",
     "metadata": {},
     "outputs": []
    },
    {
     "cell_type": "markdown",
     "metadata": {},
     "source": [
      "**Exercise 9:** Use `contains` to find team abbreviations that contain a number."
     ]
    },
    {
     "cell_type": "code",
     "collapsed": false,
     "input": [
      "teams = dta.ix[dta.team.str.contains('\\d')].team.unique()\n",
      "teams.sort()\n",
      "teams"
     ],
     "language": "python",
     "metadata": {},
     "outputs": []
    },
    {
     "cell_type": "markdown",
     "metadata": {},
     "source": [
      "**Exercise 10:** Use `randn` to create a 10 x 5 DataFrame with column names ['a', 'b', 'c', 'd', 'e']. Using apply, calculate the means of 1) each colum and 2) each row. Finally, report which column has the largest peak-to-peak change. Use apply here as well as anything else you've learned so far. Don't use more than one line of code, if you can help it."
     ]
    },
    {
     "cell_type": "code",
     "collapsed": false,
     "input": [
      "import string\n",
      "np.random.seed(123)\n",
      "df = pd.DataFrame(randn(10, 5), columns=list(string.lowercase[:5]))\n",
      "df"
     ],
     "language": "python",
     "metadata": {},
     "outputs": []
    },
    {
     "cell_type": "code",
     "collapsed": false,
     "input": [
      "df.apply(np.mean, axis=0) # the default"
     ],
     "language": "python",
     "metadata": {},
     "outputs": []
    },
    {
     "cell_type": "code",
     "collapsed": false,
     "input": [
      "df.apply(np.mean, axis=1)"
     ],
     "language": "python",
     "metadata": {},
     "outputs": []
    },
    {
     "cell_type": "code",
     "collapsed": false,
     "input": [
      "df.apply(lambda x : np.max(x) - np.min(x)).idxmax()"
     ],
     "language": "python",
     "metadata": {},
     "outputs": []
    },
    {
     "cell_type": "markdown",
     "metadata": {},
     "source": [
      "**Exercise 11:** Construct a DataFrame that has for each year the team and player that had the most stolen bases."
     ]
    },
    {
     "cell_type": "code",
     "collapsed": false,
     "input": [
      "grouped = dta.groupby('year')\n",
      "results = grouped[['team', 'id', 'sb']].aggregate('max')"
     ],
     "language": "python",
     "metadata": {},
     "outputs": []
    },
    {
     "cell_type": "code",
     "collapsed": false,
     "input": [
      "results.head(10)"
     ],
     "language": "python",
     "metadata": {},
     "outputs": []
    },
    {
     "cell_type": "code",
     "collapsed": false,
     "input": [
      "results.ix[1985]"
     ],
     "language": "python",
     "metadata": {},
     "outputs": []
    },
    {
     "cell_type": "markdown",
     "metadata": {},
     "source": [
      "**Exercise 12:** Using the following two overlapping indices for the numerator and denominator respectively calculate the players' batting averages. The formula for batting average is 'avg = h/ab'."
     ]
    },
    {
     "cell_type": "code",
     "collapsed": false,
     "input": [
      "idx1 = pd.Index([46045, 46046, 46050, 46052, 46054, 46055, 46057, 46064, 46078, 46079])\n",
      "idx2 = pd.Index([46050, 46052, 46054, 46055, 46057, 46064, 46078, 46079, 46106, 46109])"
     ],
     "language": "python",
     "metadata": {},
     "outputs": []
    },
    {
     "cell_type": "code",
     "collapsed": false,
     "input": [
      "dta.ix[idx1, 'h']/dta.ix[idx2, 'ab']"
     ],
     "language": "python",
     "metadata": {},
     "outputs": []
    }
   ],
   "metadata": {}
  }
 ]
}